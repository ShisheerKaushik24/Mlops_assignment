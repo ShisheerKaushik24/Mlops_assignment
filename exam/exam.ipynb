{
 "cells": [
  {
   "cell_type": "markdown",
   "metadata": {},
   "source": [
    "### Question 1: Data Structure and Processing Pipeline (15 marks)\n",
    "\n",
    "a) Create a data processing class that implements:\n",
    "    \n",
    "    ● Conversion of data to pandas DataFrame with proper column names\n",
    "    \n",
    "    ● Feature scaling using `StandardScaler`\n",
    "    \n",
    "    ● Train-test split with experiment tracking"
   ]
  },
  {
   "cell_type": "markdown",
   "metadata": {},
   "source": [
    "### Question 2: Experiment Tracking and Model Development (20 marks)\n",
    "\n",
    "Implement an experiment tracking system using MLflow for the Iris classification task:\n",
    "a) Create an experimentation class that:\n",
    "    ● Trains multiple models (Logistic Regressor, Random Forest)\n",
    "    ● Tracks experiments with MLflow\n",
    "    ● Implements cross-validation\n",
    "    ● Records metrics (accuracy, precision, recall)"
   ]
  },
  {
   "cell_type": "markdown",
   "metadata": {},
   "source": [
    "### Question 3: Model Optimization and Testing (15 marks)\n",
    "\n",
    "Implement model optimization and testing framework:\n",
    "\n",
    "a) Create a model optimization class that: \n",
    "    ● Implements model quantization (For Logistic regressor)\n",
    "    ● Includes simple unit tests"
   ]
  },
  {
   "cell_type": "markdown",
   "metadata": {},
   "source": [
    "### The main function that runs in the  { docker } image"
   ]
  },
  {
   "cell_type": "code",
   "execution_count": 1,
   "metadata": {},
   "outputs": [
    {
     "name": "stderr",
     "output_type": "stream",
     "text": [
      "..\n",
      "----------------------------------------------------------------------\n",
      "Ran 2 tests in 0.002s\n",
      "\n",
      "OK\n"
     ]
    },
    {
     "name": "stdout",
     "output_type": "stream",
     "text": [
      "Experiment Results:\n",
      "\n",
      "Logistic Regression:\n",
      "  Accuracy: 1.0000\n",
      "  Cross-Validation Mean: 0.9429\n",
      "  Cross-Validation Std: 0.0356\n",
      "\n",
      "Random Forest:\n",
      "  Accuracy: 1.0000\n",
      "  Cross-Validation Mean: 0.9429\n",
      "  Cross-Validation Std: 0.0356\n"
     ]
    },
    {
     "data": {
      "text/plain": [
       "<unittest.main.TestProgram at 0x14d8c7c50>"
      ]
     },
     "execution_count": 1,
     "metadata": {},
     "output_type": "execute_result"
    }
   ],
   "source": [
    "import pandas as pd\n",
    "import numpy as np\n",
    "from sklearn.datasets import load_iris\n",
    "from sklearn.model_selection import train_test_split, cross_val_score\n",
    "from sklearn.preprocessing import StandardScaler\n",
    "from sklearn.linear_model import LogisticRegression\n",
    "from sklearn.ensemble import RandomForestClassifier\n",
    "import unittest\n",
    "\n",
    "class IrisDataProcessor:\n",
    "    def __init__(self):\n",
    "        self.data = load_iris()\n",
    "        self.df = None\n",
    "        self.X_train = None\n",
    "        self.X_test = None\n",
    "        self.y_train = None\n",
    "        self.y_test = None\n",
    "\n",
    "    def prepare_data(self):\n",
    "        self.df = pd.DataFrame(\n",
    "            data=np.c_[self.data['data'], self.data['target']],\n",
    "            columns=self.data['feature_names'] + ['target']\n",
    "        )\n",
    "        scaler = StandardScaler()\n",
    "        features = self.df[self.data['feature_names']]\n",
    "        self.df[self.data['feature_names']] = scaler.fit_transform(features)\n",
    "        X = self.df[self.data['feature_names']]\n",
    "        y = self.df['target']\n",
    "        self.X_train, self.X_test, self.y_train, self.y_test = train_test_split(\n",
    "            X, y, test_size=0.3, random_state=42\n",
    "        )\n",
    "        return self.X_train, self.X_test, self.y_train, self.y_test\n",
    "\n",
    "class IrisExperiment:\n",
    "    def __init__(self, data_processor):\n",
    "        self.data_processor = data_processor\n",
    "        self.models = {\n",
    "            'Logistic Regression': LogisticRegression(),\n",
    "            'Random Forest': RandomForestClassifier()\n",
    "        }\n",
    "\n",
    "    def run_experiment(self):\n",
    "        results = {}\n",
    "        X_train, X_test, y_train, y_test = self.data_processor.prepare_data()\n",
    "\n",
    "        for model_name, model in self.models.items():\n",
    "            model.fit(X_train, y_train)\n",
    "            accuracy = model.score(X_test, y_test)\n",
    "            cv_scores = cross_val_score(model, X_train, y_train, cv=5)\n",
    "\n",
    "            results[model_name] = {\n",
    "                'Accuracy': accuracy,\n",
    "                'Cross-Validation Mean': np.mean(cv_scores),\n",
    "                'Cross-Validation Std': np.std(cv_scores)\n",
    "            }\n",
    "        return results\n",
    "\n",
    "class IrisModelOptimizer:\n",
    "    def __init__(self, experiment):\n",
    "        self.experiment = experiment\n",
    "\n",
    "    def quantize_model(self):\n",
    "        model = self.experiment.models['Logistic Regression']\n",
    "        model.coef_ = np.round(model.coef_, 2)\n",
    "class ModelTest(unittest.TestCase):\n",
    "    @classmethod\n",
    "    def setUpClass(cls):\n",
    "        processor = IrisDataProcessor()\n",
    "        cls.X_train, cls.X_test, cls.y_train, cls.y_test = processor.prepare_data()\n",
    "        cls.experiment = IrisExperiment(processor)\n",
    "        cls.optimizer = IrisModelOptimizer(cls.experiment)\n",
    "\n",
    "    def test_data_split(self):\n",
    "        self.assertTrue(len(self.X_train) > 0, \"X_train should not be empty\")\n",
    "\n",
    "    def test_model_training(self):\n",
    "        model = self.experiment.models['Logistic Regression']\n",
    "        self.assertIsNotNone(model, \"Model should be initialized\")\n",
    "\n",
    "processor = IrisDataProcessor()\n",
    "X_train, X_test, y_train, y_test = processor.prepare_data()\n",
    "\n",
    "experiment = IrisExperiment(processor)\n",
    "results = experiment.run_experiment()\n",
    "\n",
    "optimizer = IrisModelOptimizer(experiment)\n",
    "optimizer.quantize_model()\n",
    "\n",
    "print(\"Experiment Results:\")\n",
    "for model, metrics in results.items():\n",
    "    print(f\"\\n{model}:\")\n",
    "    for metric, value in metrics.items():\n",
    "        print(f\"  {metric}: {value:.4f}\")\n",
    "\n",
    "unittest.main(argv=[''], exit=False)"
   ]
  },
  {
   "cell_type": "markdown",
   "metadata": {},
   "source": []
  }
 ],
 "metadata": {
  "kernelspec": {
   "display_name": "DevOps",
   "language": "python",
   "name": "python3"
  },
  "language_info": {
   "codemirror_mode": {
    "name": "ipython",
    "version": 3
   },
   "file_extension": ".py",
   "mimetype": "text/x-python",
   "name": "python",
   "nbconvert_exporter": "python",
   "pygments_lexer": "ipython3",
   "version": "3.11.9"
  }
 },
 "nbformat": 4,
 "nbformat_minor": 2
}
