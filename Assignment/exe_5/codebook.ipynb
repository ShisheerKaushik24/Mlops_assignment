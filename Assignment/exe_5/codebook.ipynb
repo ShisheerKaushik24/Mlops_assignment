{
 "cells": [
  {
   "cell_type": "code",
   "execution_count": 3,
   "metadata": {},
   "outputs": [],
   "source": [
    "import torch\n",
    "import time\n",
    "from torchvision import datasets, transforms\n",
    "import torch.nn as nn\n",
    "import torch.optim as optim\n",
    "\n",
    "transform = transforms.Compose([transforms.ToTensor(), transforms.Normalize((0.5,), (0.5,))])\n",
    "mnist_train = datasets.MNIST(root='./data', train=True, transform=transform, download=True)\n",
    "mnist_test = datasets.MNIST(root='./data', train=False, transform=transform, download=True)\n",
    "\n",
    "X_train = mnist_train.data\n",
    "y_train = mnist_train.targets\n",
    "X_test = mnist_test.data\n",
    "y_test = mnist_test.targets\n",
    "\n",
    "X_train = X_train.view(X_train.size(0), -1).float() \n",
    "X_test = X_test.view(X_test.size(0), -1).float()   \n",
    "\n"
   ]
  },
  {
   "cell_type": "code",
   "execution_count": 4,
   "metadata": {},
   "outputs": [
    {
     "name": "stdout",
     "output_type": "stream",
     "text": [
      "Epoch [10/100], Loss: 857.6127\n",
      "Epoch [20/100], Loss: 309.0080\n",
      "Epoch [30/100], Loss: 98.8214\n",
      "Epoch [40/100], Loss: 82.9048\n",
      "Epoch [50/100], Loss: 267.2411\n",
      "Epoch [60/100], Loss: 112.2827\n",
      "Epoch [70/100], Loss: 62.2377\n",
      "Epoch [80/100], Loss: 186.9705\n",
      "Epoch [90/100], Loss: 138.7474\n",
      "Epoch [100/100], Loss: 60.6565\n"
     ]
    }
   ],
   "source": [
    "class LogisticRegression(nn.Module):\n",
    "    def __init__(self, input_size, num_classes):\n",
    "        super(LogisticRegression, self).__init__()\n",
    "        self.linear = nn.Linear(input_size, num_classes)\n",
    "\n",
    "    def forward(self, x):\n",
    "        return self.linear(x)\n",
    "\n",
    "input_size = X_train.shape[1]  \n",
    "num_classes = 10  \n",
    "\n",
    "model = LogisticRegression(input_size, num_classes)\n",
    "criterion = nn.CrossEntropyLoss()\n",
    "optimizer = optim.SGD(model.parameters(), lr=0.01)\n",
    "\n",
    "for epoch in range(100): \n",
    "    model.train()\n",
    "    optimizer.zero_grad()\n",
    "    \n",
    "    outputs = model(X_train)  \n",
    "    loss = criterion(outputs, y_train) \n",
    "    \n",
    "    loss.backward()\n",
    "    optimizer.step()\n",
    "    \n",
    "    if (epoch + 1) % 10 == 0:\n",
    "        print(f'Epoch [{epoch + 1}/100], Loss: {loss.item():.4f}')"
   ]
  },
  {
   "cell_type": "code",
   "execution_count": 5,
   "metadata": {},
   "outputs": [
    {
     "name": "stdout",
     "output_type": "stream",
     "text": [
      "Accuracy: 0.9087, Model Size: 0.03 MB, Inference Time: 0.031446 seconds\n"
     ]
    }
   ],
   "source": [
    "def evaluate_model(model, X_test, y_test):\n",
    "    model.eval()\n",
    "    start_time = time.time()\n",
    "    outputs = model(X_test)\n",
    "    _, predicted = torch.max(outputs.data, 1)\n",
    "    accuracy = (predicted == y_test).sum().item() / len(y_test)\n",
    "    inference_time = time.time() - start_time\n",
    "    model_size = sum(p.numel() * (4 if p.dtype == torch.float32 else 1) for p in model.parameters())  \n",
    "    return accuracy, model_size, inference_time\n",
    "\n",
    "accuracy, model_size, inference_time = evaluate_model(model, X_test, y_test)\n",
    "print(f'Accuracy: {accuracy}, Model Size: {model_size / 1e6:.2f} MB, Inference Time: {inference_time:.6f} seconds')\n"
   ]
  },
  {
   "cell_type": "code",
   "execution_count": 6,
   "metadata": {},
   "outputs": [],
   "source": [
    "from torch.quantization import quantize_dynamic\n",
    "\n",
    "def quantize_model(model):\n",
    "    torch.backends.quantized.engine = 'qnnpack'\n",
    "    quantized_model = quantize_dynamic(\n",
    "        model,               \n",
    "        {torch.nn.Linear},   \n",
    "        dtype=torch.qint8     \n",
    "    )\n",
    "    return quantized_model\n"
   ]
  },
  {
   "cell_type": "code",
   "execution_count": 7,
   "metadata": {},
   "outputs": [
    {
     "name": "stdout",
     "output_type": "stream",
     "text": [
      "Quantized Accuracy: 0.9089, Model Size: 0.00 MB, Quantized Inference Time: 0.034173 seconds\n"
     ]
    },
    {
     "name": "stderr",
     "output_type": "stream",
     "text": [
      "[W1015 18:29:56.563849000 qlinear_dynamic.cpp:250] Warning: Currently, qnnpack incorrectly ignores reduce_range when it is set to true; this may change in a future release. (function operator())\n"
     ]
    }
   ],
   "source": [
    "import time\n",
    "\n",
    "def evaluate_quantized_model(model_int8, X_test, y_test):\n",
    "\n",
    "    model_int8.eval()  \n",
    "    start_time = time.time()\n",
    "    X_test_tensor = X_test.view(X_test.size(0), -1).float()  \n",
    "    outputs = model_int8(X_test_tensor)\n",
    "    _, predicted = torch.max(outputs.data, 1)\n",
    "    accuracy = (predicted == y_test).sum().item() / len(y_test)\n",
    "    inference_time = time.time() - start_time\n",
    "    model_size_bytes = sum(p.numel() * (4 if p.dtype == torch.float32 else 1) for p in model_int8.parameters())\n",
    "    model_size_mb = model_size_bytes / (1024 * 1024)  \n",
    "    \n",
    "    return accuracy, model_size_mb, inference_time\n",
    "\n",
    "quantized_model = quantize_model(model)  \n",
    "\n",
    "accuracy_quant, model_size_quant, inference_time_quant = evaluate_quantized_model(quantized_model, X_test, y_test)\n",
    "print(f'Quantized Accuracy: {accuracy_quant}, Model Size: {model_size_quant:.2f} MB, Quantized Inference Time: {inference_time_quant:.6f} seconds')\n"
   ]
  },
  {
   "cell_type": "code",
   "execution_count": 8,
   "metadata": {},
   "outputs": [
    {
     "name": "stdout",
     "output_type": "stream",
     "text": [
      "Original Model -> Accuracy: 0.9087, Size: 0.03 MB, Inference Time: 0.031446 seconds\n",
      "Quantized Model -> Accuracy: 0.9089, Size: 0.00 MB, Inference Time: 0.034173 seconds\n"
     ]
    }
   ],
   "source": [
    "print(f'Original Model -> Accuracy: {accuracy}, Size: {model_size / 1e6:.2f} MB, Inference Time: {inference_time:.6f} seconds')\n",
    "print(f'Quantized Model -> Accuracy: {accuracy_quant}, Size: {model_size_quant / 1e6:.2f} MB, Inference Time: {inference_time_quant:.6f} seconds')\n"
   ]
  },
  {
   "cell_type": "code",
   "execution_count": null,
   "metadata": {},
   "outputs": [],
   "source": []
  }
 ],
 "metadata": {
  "kernelspec": {
   "display_name": "DevOps",
   "language": "python",
   "name": "python3"
  },
  "language_info": {
   "codemirror_mode": {
    "name": "ipython",
    "version": 3
   },
   "file_extension": ".py",
   "mimetype": "text/x-python",
   "name": "python",
   "nbconvert_exporter": "python",
   "pygments_lexer": "ipython3",
   "version": "3.11.9"
  }
 },
 "nbformat": 4,
 "nbformat_minor": 2
}
